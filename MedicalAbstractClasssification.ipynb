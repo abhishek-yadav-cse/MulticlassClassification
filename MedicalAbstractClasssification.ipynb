{
 "cells": [
  {
   "cell_type": "code",
   "execution_count": 1,
   "metadata": {},
   "outputs": [],
   "source": [
    "#Importing required libraries\n",
    "import pandas as pd\n",
    "import nltk\n",
    "import csv\n",
    "\n",
    "#Reading the training data in the form of CSV file\n",
    "file = pd.read_csv(\"train.dat\", sep=\"\\t\", header=None)"
   ]
  },
  {
   "cell_type": "code",
   "execution_count": 2,
   "metadata": {},
   "outputs": [],
   "source": [
    "#Importing the CounterVectorizer transformer\n",
    "from sklearn.feature_extraction.text import CountVectorizer\n",
    "vector = CountVectorizer()\n",
    "count = vector.fit_transform(file[1])"
   ]
  },
  {
   "cell_type": "code",
   "execution_count": 3,
   "metadata": {},
   "outputs": [],
   "source": [
    "#Importing the TfidfTransformer transformer\n",
    "from sklearn.feature_extraction.text import TfidfTransformer\n",
    "tfidf = TfidfTransformer()\n",
    "train_tfidf = tfidf.fit_transform(count)"
   ]
  },
  {
   "cell_type": "code",
   "execution_count": 4,
   "metadata": {},
   "outputs": [],
   "source": [
    "#Building the MultinomialNB classifier , although this was not used in final calculation\n",
    "from sklearn.naive_bayes import MultinomialNB\n",
    "clf = MultinomialNB().fit(train_tfidf, file[0])"
   ]
  },
  {
   "cell_type": "code",
   "execution_count": 5,
   "metadata": {},
   "outputs": [],
   "source": [
    "#Importing other classifiers\n",
    "from sklearn.svm import LinearSVC\n",
    "from sklearn.svm import SVC , NuSVC\n",
    "from sklearn.linear_model import LogisticRegression"
   ]
  },
  {
   "cell_type": "code",
   "execution_count": 6,
   "metadata": {},
   "outputs": [],
   "source": [
    "#Building the sklearn pipeline with corresponding transformers and a classifier along with passing ngrams as the parameters\n",
    "from sklearn.pipeline import Pipeline\n",
    "txt_classifier = Pipeline([('vect', CountVectorizer(ngram_range=(1, 4), analyzer='char')),\n",
    "                     ('tfidf', TfidfTransformer()),\n",
    "                     ('dtc', LinearSVC()),\n",
    "])"
   ]
  },
  {
   "cell_type": "code",
   "execution_count": 7,
   "metadata": {},
   "outputs": [],
   "source": [
    "#Training the model\n",
    "txt_classifier = txt_classifier.fit(file[1], file[0])"
   ]
  },
  {
   "cell_type": "code",
   "execution_count": 8,
   "metadata": {},
   "outputs": [
    {
     "name": "stdout",
     "output_type": "stream",
     "text": [
      "[5 5 5 ... 1 3 2]\n"
     ]
    }
   ],
   "source": [
    "#Testing the model on test data\n",
    "t = open(\"test.dat\")\n",
    "\n",
    "#Generating the predict file\n",
    "predicted = txt_classifier.predict(t)\n",
    "print(predicted)"
   ]
  },
  {
   "cell_type": "code",
   "execution_count": 9,
   "metadata": {},
   "outputs": [],
   "source": [
    "#Storing the predicted output in result\n",
    "result = pd.DataFrame(predicted)"
   ]
  },
  {
   "cell_type": "code",
   "execution_count": 10,
   "metadata": {},
   "outputs": [],
   "source": [
    "#Making a prediction.dat file for the final result\n",
    "result.to_csv('prediction.dat', index=False, header=None)"
   ]
  }
 ],
 "metadata": {
  "kernelspec": {
   "display_name": "Python 3",
   "language": "python",
   "name": "python3"
  },
  "language_info": {
   "codemirror_mode": {
    "name": "ipython",
    "version": 3
   },
   "file_extension": ".py",
   "mimetype": "text/x-python",
   "name": "python",
   "nbconvert_exporter": "python",
   "pygments_lexer": "ipython3",
   "version": "3.6.4"
  }
 },
 "nbformat": 4,
 "nbformat_minor": 2
}
